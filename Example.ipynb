{
 "cells": [
  {
   "cell_type": "code",
   "execution_count": null,
   "id": "c763ad12-1fd7-4393-9c96-70658747e704",
   "metadata": {},
   "outputs": [],
   "source": [
    "#!pip install torch\n",
    "#!pip install tqdm\n",
    "#!pip install torchmetrics"
   ]
  },
  {
   "cell_type": "code",
   "execution_count": null,
   "id": "1b877b2b-dc40-4d30-968a-25863e8ab1bc",
   "metadata": {},
   "outputs": [],
   "source": [
    "import numpy as np\n",
    "import torch.nn.functional as F\n",
    "from torch import nn\n",
    "from torch.utils.data import DataLoader\n",
    "from torchvision import datasets, transforms\n",
    "from sklearn.datasets import make_regression\n",
    "from sklearn.model_selection import train_test_split"
   ]
  },
  {
   "cell_type": "code",
   "execution_count": null,
   "id": "e488c07a-b0bc-41dd-8ef9-a39201c95a7a",
   "metadata": {},
   "outputs": [],
   "source": [
    "from torch_tools import Trainer"
   ]
  },
  {
   "cell_type": "markdown",
   "id": "0b9fc81e-77ef-461d-9c47-ddf7a4a4eab4",
   "metadata": {},
   "source": [
    "# Classification"
   ]
  },
  {
   "cell_type": "code",
   "execution_count": null,
   "id": "06af5a3e-010d-49c4-8d7c-5425bb9df17c",
   "metadata": {},
   "outputs": [],
   "source": [
    "class MyModel(nn.Module):\n",
    "    def __init__(self):\n",
    "        super().__init__()\n",
    "        self.layer_1 = nn.Linear(28 * 28, 128)\n",
    "        self.layer_2 = nn.Linear(128, 256)\n",
    "        self.layer_3 = nn.Linear(256, 10)\n",
    "\n",
    "    def forward(self, x):\n",
    "        batch_size, *_ = x.size()\n",
    "        x = x.view(batch_size, -1)\n",
    "        x = self.layer_1(x)\n",
    "        x = F.relu(x)\n",
    "        x = self.layer_2(x)\n",
    "        x = F.relu(x)\n",
    "        x = self.layer_3(x)\n",
    "        return x"
   ]
  },
  {
   "cell_type": "markdown",
   "id": "164b2d63-124e-47dd-9cde-4d442e2ac699",
   "metadata": {},
   "source": [
    "## Data provided as dataloader"
   ]
  },
  {
   "cell_type": "code",
   "execution_count": null,
   "id": "c91c2877-b989-439b-8609-b132a2f8c4b2",
   "metadata": {},
   "outputs": [],
   "source": [
    "train_set = datasets.MNIST(\"data/\", train=True, download=True, transform=transforms.ToTensor())\n",
    "train_loader = DataLoader(train_set, batch_size=32, shuffle=True)\n",
    "\n",
    "test_set = datasets.MNIST(\"data/\", train=False, download=True, transform=transforms.ToTensor())\n",
    "test_loader = DataLoader(test_set, batch_size=32, shuffle=True)"
   ]
  },
  {
   "cell_type": "code",
   "execution_count": null,
   "id": "a0af4f61-9150-4671-aa50-d42d68a1d72d",
   "metadata": {
    "tags": []
   },
   "outputs": [],
   "source": [
    "model = MyModel()\n",
    "trainer = Trainer(model, loss=\"crossentropy\", optimizer=\"adam\", metric=\"accuracy\", device='cuda')"
   ]
  },
  {
   "cell_type": "code",
   "execution_count": null,
   "id": "670c5120-4464-4589-946e-aa137ec49dae",
   "metadata": {
    "tags": []
   },
   "outputs": [],
   "source": [
    "history = trainer.fit(train_loader, epochs=2, validation_data=test_loader)"
   ]
  },
  {
   "cell_type": "code",
   "execution_count": null,
   "id": "42467b5d-b559-4252-a95a-1a8d13859bc0",
   "metadata": {},
   "outputs": [],
   "source": [
    "history"
   ]
  },
  {
   "cell_type": "code",
   "execution_count": null,
   "id": "7592a17d-998c-4c5e-9030-1d09a6a2423c",
   "metadata": {},
   "outputs": [],
   "source": [
    "trainer.evaluate(test_loader)"
   ]
  },
  {
   "cell_type": "markdown",
   "id": "48b1f6a4-2fc0-416f-a94c-5e36018102a2",
   "metadata": {},
   "source": [
    "# Regression"
   ]
  },
  {
   "cell_type": "code",
   "execution_count": null,
   "id": "e7d94b85-98bf-4205-b613-0c958a4af1e0",
   "metadata": {},
   "outputs": [],
   "source": [
    "class MyModel(nn.Module):\n",
    "    def __init__(self):\n",
    "        super().__init__()\n",
    "        self.layer_1 = nn.Linear(100, 50)\n",
    "        self.layer_2 = nn.Linear(50, 10)\n",
    "        self.layer_3 = nn.Linear(10, 1)\n",
    "\n",
    "    def forward(self, x):\n",
    "        x = self.layer_1(x)\n",
    "        x = F.relu(x)\n",
    "        x = self.layer_2(x)\n",
    "        x = F.relu(x)\n",
    "        x = self.layer_3(x)\n",
    "        return x.view(len(x),)"
   ]
  },
  {
   "cell_type": "markdown",
   "id": "94985373-63d4-41d7-a891-f353baa1ab0a",
   "metadata": {},
   "source": [
    "## Data provided as numpy"
   ]
  },
  {
   "cell_type": "code",
   "execution_count": null,
   "id": "8e28f45b-dcfd-4d5e-92f1-2c3c266de788",
   "metadata": {},
   "outputs": [],
   "source": [
    "X, y = make_regression(n_samples=20_000, n_features=100, n_informative=100, n_targets=1, noise=0.2, random_state=101)\n",
    "X, y = X.astype(np.float32), y.astype(np.float32)\n",
    "X_train, X_test, y_train, y_test = train_test_split(X, y, test_size=0.3, random_state=42)"
   ]
  },
  {
   "cell_type": "code",
   "execution_count": null,
   "id": "60090a4d-73fe-4ad5-a22c-d718d3f5146e",
   "metadata": {},
   "outputs": [],
   "source": [
    "model = MyModel()\n",
    "trainer = Trainer(model, loss=\"mse\", optimizer=\"adam\", metric=\"mae\")"
   ]
  },
  {
   "cell_type": "code",
   "execution_count": null,
   "id": "cf067864-21d8-4da1-a4b8-148fbb165f8c",
   "metadata": {},
   "outputs": [],
   "source": [
    "history = trainer.fit(X_train, y_train, epochs=2, batch_size=32, validation_split=0.2)"
   ]
  },
  {
   "cell_type": "code",
   "execution_count": null,
   "id": "710704f6-b529-4eed-8996-bb407647256c",
   "metadata": {},
   "outputs": [],
   "source": [
    "history"
   ]
  },
  {
   "cell_type": "code",
   "execution_count": null,
   "id": "93504932-a31e-4604-873f-9de97e14d468",
   "metadata": {},
   "outputs": [],
   "source": [
    "trainer.evaluate(X_test, y_test)"
   ]
  }
 ],
 "metadata": {
  "kernelspec": {
   "display_name": "Python 3 (ipykernel)",
   "language": "python",
   "name": "python3"
  },
  "language_info": {
   "codemirror_mode": {
    "name": "ipython",
    "version": 3
   },
   "file_extension": ".py",
   "mimetype": "text/x-python",
   "name": "python",
   "nbconvert_exporter": "python",
   "pygments_lexer": "ipython3",
   "version": "3.9.7"
  }
 },
 "nbformat": 4,
 "nbformat_minor": 5
}
